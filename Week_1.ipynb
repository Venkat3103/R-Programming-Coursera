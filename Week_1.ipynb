{
  "nbformat": 4,
  "nbformat_minor": 0,
  "metadata": {
    "colab": {
      "name": "Week-1.ipynb",
      "provenance": [],
      "collapsed_sections": [],
      "authorship_tag": "ABX9TyPVLeji1eA8CV9/RnkxRSXB",
      "include_colab_link": true
    },
    "kernelspec": {
      "display_name": "R",
      "name": "ir"
    }
  },
  "cells": [
    {
      "cell_type": "markdown",
      "metadata": {
        "id": "view-in-github",
        "colab_type": "text"
      },
      "source": [
        "<a href=\"https://colab.research.google.com/github/Venkat3103/R-Programming-Coursera/blob/main/Week_1.ipynb\" target=\"_parent\"><img src=\"https://colab.research.google.com/assets/colab-badge.svg\" alt=\"Open In Colab\"/></a>"
      ]
    },
    {
      "cell_type": "markdown",
      "metadata": {
        "id": "Wr317KNb9TVN"
      },
      "source": [
        "# Solving the quiz questions of Week 1 of R Programming"
      ]
    },
    {
      "cell_type": "code",
      "metadata": {
        "colab": {
          "base_uri": "https://localhost:8080/",
          "height": 1000
        },
        "id": "DPFn5qeyKcUX",
        "outputId": "8d7cf02a-efdf-4d16-e692-1503c4ccedfc"
      },
      "source": [
        "df <- read.csv(\"https://raw.githubusercontent.com/Venkat3103/R-Programming-Coursera/main/hw1_data.csv\")\r\n",
        "df"
      ],
      "execution_count": 2,
      "outputs": [
        {
          "output_type": "display_data",
          "data": {
            "text/plain": [
              "    Ozone Solar.R Wind Temp Month Day\n",
              "1    41   190      7.4 67   5      1 \n",
              "2    36   118      8.0 72   5      2 \n",
              "3    12   149     12.6 74   5      3 \n",
              "4    18   313     11.5 62   5      4 \n",
              "5    NA    NA     14.3 56   5      5 \n",
              "6    28    NA     14.9 66   5      6 \n",
              "7    23   299      8.6 65   5      7 \n",
              "8    19    99     13.8 59   5      8 \n",
              "9     8    19     20.1 61   5      9 \n",
              "10   NA   194      8.6 69   5     10 \n",
              "11    7    NA      6.9 74   5     11 \n",
              "12   16   256      9.7 69   5     12 \n",
              "13   11   290      9.2 66   5     13 \n",
              "14   14   274     10.9 68   5     14 \n",
              "15   18    65     13.2 58   5     15 \n",
              "16   14   334     11.5 64   5     16 \n",
              "17   34   307     12.0 66   5     17 \n",
              "18    6    78     18.4 57   5     18 \n",
              "19   30   322     11.5 68   5     19 \n",
              "20   11    44      9.7 62   5     20 \n",
              "21    1     8      9.7 59   5     21 \n",
              "22   11   320     16.6 73   5     22 \n",
              "23    4    25      9.7 61   5     23 \n",
              "24   32    92     12.0 61   5     24 \n",
              "25   NA    66     16.6 57   5     25 \n",
              "26   NA   266     14.9 58   5     26 \n",
              "27   NA    NA      8.0 57   5     27 \n",
              "28   23    13     12.0 67   5     28 \n",
              "29   45   252     14.9 81   5     29 \n",
              "30  115   223      5.7 79   5     30 \n",
              "⋮   ⋮     ⋮       ⋮    ⋮    ⋮     ⋮  \n",
              "124 96    167      6.9 91   9      1 \n",
              "125 78    197      5.1 92   9      2 \n",
              "126 73    183      2.8 93   9      3 \n",
              "127 91    189      4.6 93   9      4 \n",
              "128 47     95      7.4 87   9      5 \n",
              "129 32     92     15.5 84   9      6 \n",
              "130 20    252     10.9 80   9      7 \n",
              "131 23    220     10.3 78   9      8 \n",
              "132 21    230     10.9 75   9      9 \n",
              "133 24    259      9.7 73   9     10 \n",
              "134 44    236     14.9 81   9     11 \n",
              "135 21    259     15.5 76   9     12 \n",
              "136 28    238      6.3 77   9     13 \n",
              "137  9     24     10.9 71   9     14 \n",
              "138 13    112     11.5 71   9     15 \n",
              "139 46    237      6.9 78   9     16 \n",
              "140 18    224     13.8 67   9     17 \n",
              "141 13     27     10.3 76   9     18 \n",
              "142 24    238     10.3 68   9     19 \n",
              "143 16    201      8.0 82   9     20 \n",
              "144 13    238     12.6 64   9     21 \n",
              "145 23     14      9.2 71   9     22 \n",
              "146 36    139     10.3 81   9     23 \n",
              "147  7     49     10.3 69   9     24 \n",
              "148 14     20     16.6 63   9     25 \n",
              "149 30    193      6.9 70   9     26 \n",
              "150 NA    145     13.2 77   9     27 \n",
              "151 14    191     14.3 75   9     28 \n",
              "152 18    131      8.0 76   9     29 \n",
              "153 20    223     11.5 68   9     30 "
            ],
            "text/latex": "A data.frame: 153 × 6\n\\begin{tabular}{llllll}\n Ozone & Solar.R & Wind & Temp & Month & Day\\\\\n <int> & <int> & <dbl> & <int> & <int> & <int>\\\\\n\\hline\n\t  41 & 190 &  7.4 & 67 & 5 &  1\\\\\n\t  36 & 118 &  8.0 & 72 & 5 &  2\\\\\n\t  12 & 149 & 12.6 & 74 & 5 &  3\\\\\n\t  18 & 313 & 11.5 & 62 & 5 &  4\\\\\n\t  NA &  NA & 14.3 & 56 & 5 &  5\\\\\n\t  28 &  NA & 14.9 & 66 & 5 &  6\\\\\n\t  23 & 299 &  8.6 & 65 & 5 &  7\\\\\n\t  19 &  99 & 13.8 & 59 & 5 &  8\\\\\n\t   8 &  19 & 20.1 & 61 & 5 &  9\\\\\n\t  NA & 194 &  8.6 & 69 & 5 & 10\\\\\n\t   7 &  NA &  6.9 & 74 & 5 & 11\\\\\n\t  16 & 256 &  9.7 & 69 & 5 & 12\\\\\n\t  11 & 290 &  9.2 & 66 & 5 & 13\\\\\n\t  14 & 274 & 10.9 & 68 & 5 & 14\\\\\n\t  18 &  65 & 13.2 & 58 & 5 & 15\\\\\n\t  14 & 334 & 11.5 & 64 & 5 & 16\\\\\n\t  34 & 307 & 12.0 & 66 & 5 & 17\\\\\n\t   6 &  78 & 18.4 & 57 & 5 & 18\\\\\n\t  30 & 322 & 11.5 & 68 & 5 & 19\\\\\n\t  11 &  44 &  9.7 & 62 & 5 & 20\\\\\n\t   1 &   8 &  9.7 & 59 & 5 & 21\\\\\n\t  11 & 320 & 16.6 & 73 & 5 & 22\\\\\n\t   4 &  25 &  9.7 & 61 & 5 & 23\\\\\n\t  32 &  92 & 12.0 & 61 & 5 & 24\\\\\n\t  NA &  66 & 16.6 & 57 & 5 & 25\\\\\n\t  NA & 266 & 14.9 & 58 & 5 & 26\\\\\n\t  NA &  NA &  8.0 & 57 & 5 & 27\\\\\n\t  23 &  13 & 12.0 & 67 & 5 & 28\\\\\n\t  45 & 252 & 14.9 & 81 & 5 & 29\\\\\n\t 115 & 223 &  5.7 & 79 & 5 & 30\\\\\n\t ⋮ & ⋮ & ⋮ & ⋮ & ⋮ & ⋮\\\\\n\t 96 & 167 &  6.9 & 91 & 9 &  1\\\\\n\t 78 & 197 &  5.1 & 92 & 9 &  2\\\\\n\t 73 & 183 &  2.8 & 93 & 9 &  3\\\\\n\t 91 & 189 &  4.6 & 93 & 9 &  4\\\\\n\t 47 &  95 &  7.4 & 87 & 9 &  5\\\\\n\t 32 &  92 & 15.5 & 84 & 9 &  6\\\\\n\t 20 & 252 & 10.9 & 80 & 9 &  7\\\\\n\t 23 & 220 & 10.3 & 78 & 9 &  8\\\\\n\t 21 & 230 & 10.9 & 75 & 9 &  9\\\\\n\t 24 & 259 &  9.7 & 73 & 9 & 10\\\\\n\t 44 & 236 & 14.9 & 81 & 9 & 11\\\\\n\t 21 & 259 & 15.5 & 76 & 9 & 12\\\\\n\t 28 & 238 &  6.3 & 77 & 9 & 13\\\\\n\t  9 &  24 & 10.9 & 71 & 9 & 14\\\\\n\t 13 & 112 & 11.5 & 71 & 9 & 15\\\\\n\t 46 & 237 &  6.9 & 78 & 9 & 16\\\\\n\t 18 & 224 & 13.8 & 67 & 9 & 17\\\\\n\t 13 &  27 & 10.3 & 76 & 9 & 18\\\\\n\t 24 & 238 & 10.3 & 68 & 9 & 19\\\\\n\t 16 & 201 &  8.0 & 82 & 9 & 20\\\\\n\t 13 & 238 & 12.6 & 64 & 9 & 21\\\\\n\t 23 &  14 &  9.2 & 71 & 9 & 22\\\\\n\t 36 & 139 & 10.3 & 81 & 9 & 23\\\\\n\t  7 &  49 & 10.3 & 69 & 9 & 24\\\\\n\t 14 &  20 & 16.6 & 63 & 9 & 25\\\\\n\t 30 & 193 &  6.9 & 70 & 9 & 26\\\\\n\t NA & 145 & 13.2 & 77 & 9 & 27\\\\\n\t 14 & 191 & 14.3 & 75 & 9 & 28\\\\\n\t 18 & 131 &  8.0 & 76 & 9 & 29\\\\\n\t 20 & 223 & 11.5 & 68 & 9 & 30\\\\\n\\end{tabular}\n",
            "text/markdown": "\nA data.frame: 153 × 6\n\n| Ozone &lt;int&gt; | Solar.R &lt;int&gt; | Wind &lt;dbl&gt; | Temp &lt;int&gt; | Month &lt;int&gt; | Day &lt;int&gt; |\n|---|---|---|---|---|---|\n|  41 | 190 |  7.4 | 67 | 5 |  1 |\n|  36 | 118 |  8.0 | 72 | 5 |  2 |\n|  12 | 149 | 12.6 | 74 | 5 |  3 |\n|  18 | 313 | 11.5 | 62 | 5 |  4 |\n|  NA |  NA | 14.3 | 56 | 5 |  5 |\n|  28 |  NA | 14.9 | 66 | 5 |  6 |\n|  23 | 299 |  8.6 | 65 | 5 |  7 |\n|  19 |  99 | 13.8 | 59 | 5 |  8 |\n|   8 |  19 | 20.1 | 61 | 5 |  9 |\n|  NA | 194 |  8.6 | 69 | 5 | 10 |\n|   7 |  NA |  6.9 | 74 | 5 | 11 |\n|  16 | 256 |  9.7 | 69 | 5 | 12 |\n|  11 | 290 |  9.2 | 66 | 5 | 13 |\n|  14 | 274 | 10.9 | 68 | 5 | 14 |\n|  18 |  65 | 13.2 | 58 | 5 | 15 |\n|  14 | 334 | 11.5 | 64 | 5 | 16 |\n|  34 | 307 | 12.0 | 66 | 5 | 17 |\n|   6 |  78 | 18.4 | 57 | 5 | 18 |\n|  30 | 322 | 11.5 | 68 | 5 | 19 |\n|  11 |  44 |  9.7 | 62 | 5 | 20 |\n|   1 |   8 |  9.7 | 59 | 5 | 21 |\n|  11 | 320 | 16.6 | 73 | 5 | 22 |\n|   4 |  25 |  9.7 | 61 | 5 | 23 |\n|  32 |  92 | 12.0 | 61 | 5 | 24 |\n|  NA |  66 | 16.6 | 57 | 5 | 25 |\n|  NA | 266 | 14.9 | 58 | 5 | 26 |\n|  NA |  NA |  8.0 | 57 | 5 | 27 |\n|  23 |  13 | 12.0 | 67 | 5 | 28 |\n|  45 | 252 | 14.9 | 81 | 5 | 29 |\n| 115 | 223 |  5.7 | 79 | 5 | 30 |\n| ⋮ | ⋮ | ⋮ | ⋮ | ⋮ | ⋮ |\n| 96 | 167 |  6.9 | 91 | 9 |  1 |\n| 78 | 197 |  5.1 | 92 | 9 |  2 |\n| 73 | 183 |  2.8 | 93 | 9 |  3 |\n| 91 | 189 |  4.6 | 93 | 9 |  4 |\n| 47 |  95 |  7.4 | 87 | 9 |  5 |\n| 32 |  92 | 15.5 | 84 | 9 |  6 |\n| 20 | 252 | 10.9 | 80 | 9 |  7 |\n| 23 | 220 | 10.3 | 78 | 9 |  8 |\n| 21 | 230 | 10.9 | 75 | 9 |  9 |\n| 24 | 259 |  9.7 | 73 | 9 | 10 |\n| 44 | 236 | 14.9 | 81 | 9 | 11 |\n| 21 | 259 | 15.5 | 76 | 9 | 12 |\n| 28 | 238 |  6.3 | 77 | 9 | 13 |\n|  9 |  24 | 10.9 | 71 | 9 | 14 |\n| 13 | 112 | 11.5 | 71 | 9 | 15 |\n| 46 | 237 |  6.9 | 78 | 9 | 16 |\n| 18 | 224 | 13.8 | 67 | 9 | 17 |\n| 13 |  27 | 10.3 | 76 | 9 | 18 |\n| 24 | 238 | 10.3 | 68 | 9 | 19 |\n| 16 | 201 |  8.0 | 82 | 9 | 20 |\n| 13 | 238 | 12.6 | 64 | 9 | 21 |\n| 23 |  14 |  9.2 | 71 | 9 | 22 |\n| 36 | 139 | 10.3 | 81 | 9 | 23 |\n|  7 |  49 | 10.3 | 69 | 9 | 24 |\n| 14 |  20 | 16.6 | 63 | 9 | 25 |\n| 30 | 193 |  6.9 | 70 | 9 | 26 |\n| NA | 145 | 13.2 | 77 | 9 | 27 |\n| 14 | 191 | 14.3 | 75 | 9 | 28 |\n| 18 | 131 |  8.0 | 76 | 9 | 29 |\n| 20 | 223 | 11.5 | 68 | 9 | 30 |\n\n",
            "text/html": [
              "<table class=\"dataframe\">\n",
              "<caption>A data.frame: 153 × 6</caption>\n",
              "<thead>\n",
              "\t<tr><th scope=col>Ozone</th><th scope=col>Solar.R</th><th scope=col>Wind</th><th scope=col>Temp</th><th scope=col>Month</th><th scope=col>Day</th></tr>\n",
              "\t<tr><th scope=col>&lt;int&gt;</th><th scope=col>&lt;int&gt;</th><th scope=col>&lt;dbl&gt;</th><th scope=col>&lt;int&gt;</th><th scope=col>&lt;int&gt;</th><th scope=col>&lt;int&gt;</th></tr>\n",
              "</thead>\n",
              "<tbody>\n",
              "\t<tr><td> 41</td><td>190</td><td> 7.4</td><td>67</td><td>5</td><td> 1</td></tr>\n",
              "\t<tr><td> 36</td><td>118</td><td> 8.0</td><td>72</td><td>5</td><td> 2</td></tr>\n",
              "\t<tr><td> 12</td><td>149</td><td>12.6</td><td>74</td><td>5</td><td> 3</td></tr>\n",
              "\t<tr><td> 18</td><td>313</td><td>11.5</td><td>62</td><td>5</td><td> 4</td></tr>\n",
              "\t<tr><td> NA</td><td> NA</td><td>14.3</td><td>56</td><td>5</td><td> 5</td></tr>\n",
              "\t<tr><td> 28</td><td> NA</td><td>14.9</td><td>66</td><td>5</td><td> 6</td></tr>\n",
              "\t<tr><td> 23</td><td>299</td><td> 8.6</td><td>65</td><td>5</td><td> 7</td></tr>\n",
              "\t<tr><td> 19</td><td> 99</td><td>13.8</td><td>59</td><td>5</td><td> 8</td></tr>\n",
              "\t<tr><td>  8</td><td> 19</td><td>20.1</td><td>61</td><td>5</td><td> 9</td></tr>\n",
              "\t<tr><td> NA</td><td>194</td><td> 8.6</td><td>69</td><td>5</td><td>10</td></tr>\n",
              "\t<tr><td>  7</td><td> NA</td><td> 6.9</td><td>74</td><td>5</td><td>11</td></tr>\n",
              "\t<tr><td> 16</td><td>256</td><td> 9.7</td><td>69</td><td>5</td><td>12</td></tr>\n",
              "\t<tr><td> 11</td><td>290</td><td> 9.2</td><td>66</td><td>5</td><td>13</td></tr>\n",
              "\t<tr><td> 14</td><td>274</td><td>10.9</td><td>68</td><td>5</td><td>14</td></tr>\n",
              "\t<tr><td> 18</td><td> 65</td><td>13.2</td><td>58</td><td>5</td><td>15</td></tr>\n",
              "\t<tr><td> 14</td><td>334</td><td>11.5</td><td>64</td><td>5</td><td>16</td></tr>\n",
              "\t<tr><td> 34</td><td>307</td><td>12.0</td><td>66</td><td>5</td><td>17</td></tr>\n",
              "\t<tr><td>  6</td><td> 78</td><td>18.4</td><td>57</td><td>5</td><td>18</td></tr>\n",
              "\t<tr><td> 30</td><td>322</td><td>11.5</td><td>68</td><td>5</td><td>19</td></tr>\n",
              "\t<tr><td> 11</td><td> 44</td><td> 9.7</td><td>62</td><td>5</td><td>20</td></tr>\n",
              "\t<tr><td>  1</td><td>  8</td><td> 9.7</td><td>59</td><td>5</td><td>21</td></tr>\n",
              "\t<tr><td> 11</td><td>320</td><td>16.6</td><td>73</td><td>5</td><td>22</td></tr>\n",
              "\t<tr><td>  4</td><td> 25</td><td> 9.7</td><td>61</td><td>5</td><td>23</td></tr>\n",
              "\t<tr><td> 32</td><td> 92</td><td>12.0</td><td>61</td><td>5</td><td>24</td></tr>\n",
              "\t<tr><td> NA</td><td> 66</td><td>16.6</td><td>57</td><td>5</td><td>25</td></tr>\n",
              "\t<tr><td> NA</td><td>266</td><td>14.9</td><td>58</td><td>5</td><td>26</td></tr>\n",
              "\t<tr><td> NA</td><td> NA</td><td> 8.0</td><td>57</td><td>5</td><td>27</td></tr>\n",
              "\t<tr><td> 23</td><td> 13</td><td>12.0</td><td>67</td><td>5</td><td>28</td></tr>\n",
              "\t<tr><td> 45</td><td>252</td><td>14.9</td><td>81</td><td>5</td><td>29</td></tr>\n",
              "\t<tr><td>115</td><td>223</td><td> 5.7</td><td>79</td><td>5</td><td>30</td></tr>\n",
              "\t<tr><td>⋮</td><td>⋮</td><td>⋮</td><td>⋮</td><td>⋮</td><td>⋮</td></tr>\n",
              "\t<tr><td>96</td><td>167</td><td> 6.9</td><td>91</td><td>9</td><td> 1</td></tr>\n",
              "\t<tr><td>78</td><td>197</td><td> 5.1</td><td>92</td><td>9</td><td> 2</td></tr>\n",
              "\t<tr><td>73</td><td>183</td><td> 2.8</td><td>93</td><td>9</td><td> 3</td></tr>\n",
              "\t<tr><td>91</td><td>189</td><td> 4.6</td><td>93</td><td>9</td><td> 4</td></tr>\n",
              "\t<tr><td>47</td><td> 95</td><td> 7.4</td><td>87</td><td>9</td><td> 5</td></tr>\n",
              "\t<tr><td>32</td><td> 92</td><td>15.5</td><td>84</td><td>9</td><td> 6</td></tr>\n",
              "\t<tr><td>20</td><td>252</td><td>10.9</td><td>80</td><td>9</td><td> 7</td></tr>\n",
              "\t<tr><td>23</td><td>220</td><td>10.3</td><td>78</td><td>9</td><td> 8</td></tr>\n",
              "\t<tr><td>21</td><td>230</td><td>10.9</td><td>75</td><td>9</td><td> 9</td></tr>\n",
              "\t<tr><td>24</td><td>259</td><td> 9.7</td><td>73</td><td>9</td><td>10</td></tr>\n",
              "\t<tr><td>44</td><td>236</td><td>14.9</td><td>81</td><td>9</td><td>11</td></tr>\n",
              "\t<tr><td>21</td><td>259</td><td>15.5</td><td>76</td><td>9</td><td>12</td></tr>\n",
              "\t<tr><td>28</td><td>238</td><td> 6.3</td><td>77</td><td>9</td><td>13</td></tr>\n",
              "\t<tr><td> 9</td><td> 24</td><td>10.9</td><td>71</td><td>9</td><td>14</td></tr>\n",
              "\t<tr><td>13</td><td>112</td><td>11.5</td><td>71</td><td>9</td><td>15</td></tr>\n",
              "\t<tr><td>46</td><td>237</td><td> 6.9</td><td>78</td><td>9</td><td>16</td></tr>\n",
              "\t<tr><td>18</td><td>224</td><td>13.8</td><td>67</td><td>9</td><td>17</td></tr>\n",
              "\t<tr><td>13</td><td> 27</td><td>10.3</td><td>76</td><td>9</td><td>18</td></tr>\n",
              "\t<tr><td>24</td><td>238</td><td>10.3</td><td>68</td><td>9</td><td>19</td></tr>\n",
              "\t<tr><td>16</td><td>201</td><td> 8.0</td><td>82</td><td>9</td><td>20</td></tr>\n",
              "\t<tr><td>13</td><td>238</td><td>12.6</td><td>64</td><td>9</td><td>21</td></tr>\n",
              "\t<tr><td>23</td><td> 14</td><td> 9.2</td><td>71</td><td>9</td><td>22</td></tr>\n",
              "\t<tr><td>36</td><td>139</td><td>10.3</td><td>81</td><td>9</td><td>23</td></tr>\n",
              "\t<tr><td> 7</td><td> 49</td><td>10.3</td><td>69</td><td>9</td><td>24</td></tr>\n",
              "\t<tr><td>14</td><td> 20</td><td>16.6</td><td>63</td><td>9</td><td>25</td></tr>\n",
              "\t<tr><td>30</td><td>193</td><td> 6.9</td><td>70</td><td>9</td><td>26</td></tr>\n",
              "\t<tr><td>NA</td><td>145</td><td>13.2</td><td>77</td><td>9</td><td>27</td></tr>\n",
              "\t<tr><td>14</td><td>191</td><td>14.3</td><td>75</td><td>9</td><td>28</td></tr>\n",
              "\t<tr><td>18</td><td>131</td><td> 8.0</td><td>76</td><td>9</td><td>29</td></tr>\n",
              "\t<tr><td>20</td><td>223</td><td>11.5</td><td>68</td><td>9</td><td>30</td></tr>\n",
              "</tbody>\n",
              "</table>\n"
            ]
          },
          "metadata": {
            "tags": []
          }
        }
      ]
    },
    {
      "cell_type": "markdown",
      "metadata": {
        "id": "Ox19fZ6L9Ek3"
      },
      "source": [
        "# Q.11 In the dataset provided for this Quiz, what are the column names of the dataset?"
      ]
    },
    {
      "cell_type": "code",
      "metadata": {
        "colab": {
          "base_uri": "https://localhost:8080/",
          "height": 34
        },
        "id": "j3XNbcwzKpva",
        "outputId": "759e3ca1-83f0-4522-aa2f-925992987e56"
      },
      "source": [
        "names(df)"
      ],
      "execution_count": 3,
      "outputs": [
        {
          "output_type": "display_data",
          "data": {
            "text/plain": [
              "[1] \"Ozone\"   \"Solar.R\" \"Wind\"    \"Temp\"    \"Month\"   \"Day\"    "
            ],
            "text/latex": "\\begin{enumerate*}\n\\item 'Ozone'\n\\item 'Solar.R'\n\\item 'Wind'\n\\item 'Temp'\n\\item 'Month'\n\\item 'Day'\n\\end{enumerate*}\n",
            "text/markdown": "1. 'Ozone'\n2. 'Solar.R'\n3. 'Wind'\n4. 'Temp'\n5. 'Month'\n6. 'Day'\n\n\n",
            "text/html": [
              "<style>\n",
              ".list-inline {list-style: none; margin:0; padding: 0}\n",
              ".list-inline>li {display: inline-block}\n",
              ".list-inline>li:not(:last-child)::after {content: \"\\00b7\"; padding: 0 .5ex}\n",
              "</style>\n",
              "<ol class=list-inline><li>'Ozone'</li><li>'Solar.R'</li><li>'Wind'</li><li>'Temp'</li><li>'Month'</li><li>'Day'</li></ol>\n"
            ]
          },
          "metadata": {
            "tags": []
          }
        }
      ]
    },
    {
      "cell_type": "markdown",
      "metadata": {
        "id": "ge4agxw49mm4"
      },
      "source": [
        "# Q.12 Extract the first 2 rows of the data frame and print them to the console. What does the output look like?"
      ]
    },
    {
      "cell_type": "code",
      "metadata": {
        "colab": {
          "base_uri": "https://localhost:8080/",
          "height": 159
        },
        "id": "PiMSXuSBK4_i",
        "outputId": "b27dacc3-e777-4d4c-ee02-c3bb6915d15b"
      },
      "source": [
        "head(df,2)"
      ],
      "execution_count": 4,
      "outputs": [
        {
          "output_type": "display_data",
          "data": {
            "text/plain": [
              "  Ozone Solar.R Wind Temp Month Day\n",
              "1 41    190     7.4  67   5     1  \n",
              "2 36    118     8.0  72   5     2  "
            ],
            "text/latex": "A data.frame: 2 × 6\n\\begin{tabular}{r|llllll}\n  & Ozone & Solar.R & Wind & Temp & Month & Day\\\\\n  & <int> & <int> & <dbl> & <int> & <int> & <int>\\\\\n\\hline\n\t1 & 41 & 190 & 7.4 & 67 & 5 & 1\\\\\n\t2 & 36 & 118 & 8.0 & 72 & 5 & 2\\\\\n\\end{tabular}\n",
            "text/markdown": "\nA data.frame: 2 × 6\n\n| <!--/--> | Ozone &lt;int&gt; | Solar.R &lt;int&gt; | Wind &lt;dbl&gt; | Temp &lt;int&gt; | Month &lt;int&gt; | Day &lt;int&gt; |\n|---|---|---|---|---|---|---|\n| 1 | 41 | 190 | 7.4 | 67 | 5 | 1 |\n| 2 | 36 | 118 | 8.0 | 72 | 5 | 2 |\n\n",
            "text/html": [
              "<table class=\"dataframe\">\n",
              "<caption>A data.frame: 2 × 6</caption>\n",
              "<thead>\n",
              "\t<tr><th></th><th scope=col>Ozone</th><th scope=col>Solar.R</th><th scope=col>Wind</th><th scope=col>Temp</th><th scope=col>Month</th><th scope=col>Day</th></tr>\n",
              "\t<tr><th></th><th scope=col>&lt;int&gt;</th><th scope=col>&lt;int&gt;</th><th scope=col>&lt;dbl&gt;</th><th scope=col>&lt;int&gt;</th><th scope=col>&lt;int&gt;</th><th scope=col>&lt;int&gt;</th></tr>\n",
              "</thead>\n",
              "<tbody>\n",
              "\t<tr><th scope=row>1</th><td>41</td><td>190</td><td>7.4</td><td>67</td><td>5</td><td>1</td></tr>\n",
              "\t<tr><th scope=row>2</th><td>36</td><td>118</td><td>8.0</td><td>72</td><td>5</td><td>2</td></tr>\n",
              "</tbody>\n",
              "</table>\n"
            ]
          },
          "metadata": {
            "tags": []
          }
        }
      ]
    },
    {
      "cell_type": "markdown",
      "metadata": {
        "id": "usHnDwo2Z_1B"
      },
      "source": [
        "# Q.13 How many observations (i.e. rows) are in this data frame?"
      ]
    },
    {
      "cell_type": "code",
      "metadata": {
        "colab": {
          "base_uri": "https://localhost:8080/",
          "height": 34
        },
        "id": "TyGQjigOK525",
        "outputId": "775199dc-5b08-4f7f-d828-7477a213b684"
      },
      "source": [
        "nrow(df)"
      ],
      "execution_count": 5,
      "outputs": [
        {
          "output_type": "display_data",
          "data": {
            "text/plain": [
              "[1] 153"
            ],
            "text/latex": "153",
            "text/markdown": "153",
            "text/html": [
              "153"
            ]
          },
          "metadata": {
            "tags": []
          }
        }
      ]
    },
    {
      "cell_type": "markdown",
      "metadata": {
        "id": "SO6jJ9yVaU2Q"
      },
      "source": [
        "# Q.14 Extract the last 2 rows of the data frame and print them to the console. What does the output look like?"
      ]
    },
    {
      "cell_type": "code",
      "metadata": {
        "colab": {
          "base_uri": "https://localhost:8080/",
          "height": 159
        },
        "id": "WXSWUzSdaJdx",
        "outputId": "d2e694a2-cf64-4e07-adf6-5d55bcd542be"
      },
      "source": [
        "tail(df,2)"
      ],
      "execution_count": 6,
      "outputs": [
        {
          "output_type": "display_data",
          "data": {
            "text/plain": [
              "    Ozone Solar.R Wind Temp Month Day\n",
              "152 18    131      8.0 76   9     29 \n",
              "153 20    223     11.5 68   9     30 "
            ],
            "text/latex": "A data.frame: 2 × 6\n\\begin{tabular}{r|llllll}\n  & Ozone & Solar.R & Wind & Temp & Month & Day\\\\\n  & <int> & <int> & <dbl> & <int> & <int> & <int>\\\\\n\\hline\n\t152 & 18 & 131 &  8.0 & 76 & 9 & 29\\\\\n\t153 & 20 & 223 & 11.5 & 68 & 9 & 30\\\\\n\\end{tabular}\n",
            "text/markdown": "\nA data.frame: 2 × 6\n\n| <!--/--> | Ozone &lt;int&gt; | Solar.R &lt;int&gt; | Wind &lt;dbl&gt; | Temp &lt;int&gt; | Month &lt;int&gt; | Day &lt;int&gt; |\n|---|---|---|---|---|---|---|\n| 152 | 18 | 131 |  8.0 | 76 | 9 | 29 |\n| 153 | 20 | 223 | 11.5 | 68 | 9 | 30 |\n\n",
            "text/html": [
              "<table class=\"dataframe\">\n",
              "<caption>A data.frame: 2 × 6</caption>\n",
              "<thead>\n",
              "\t<tr><th></th><th scope=col>Ozone</th><th scope=col>Solar.R</th><th scope=col>Wind</th><th scope=col>Temp</th><th scope=col>Month</th><th scope=col>Day</th></tr>\n",
              "\t<tr><th></th><th scope=col>&lt;int&gt;</th><th scope=col>&lt;int&gt;</th><th scope=col>&lt;dbl&gt;</th><th scope=col>&lt;int&gt;</th><th scope=col>&lt;int&gt;</th><th scope=col>&lt;int&gt;</th></tr>\n",
              "</thead>\n",
              "<tbody>\n",
              "\t<tr><th scope=row>152</th><td>18</td><td>131</td><td> 8.0</td><td>76</td><td>9</td><td>29</td></tr>\n",
              "\t<tr><th scope=row>153</th><td>20</td><td>223</td><td>11.5</td><td>68</td><td>9</td><td>30</td></tr>\n",
              "</tbody>\n",
              "</table>\n"
            ]
          },
          "metadata": {
            "tags": []
          }
        }
      ]
    },
    {
      "cell_type": "markdown",
      "metadata": {
        "id": "ARETnD90Ck3V"
      },
      "source": [
        "# Q.15 What is the value of Ozone in the 47th row?"
      ]
    },
    {
      "cell_type": "code",
      "metadata": {
        "colab": {
          "base_uri": "https://localhost:8080/",
          "height": 34
        },
        "id": "qyMX3ENBadgK",
        "outputId": "ed7fa283-bf81-4ac5-e6d3-df9dc4c58676"
      },
      "source": [
        "df[47,1]"
      ],
      "execution_count": 7,
      "outputs": [
        {
          "output_type": "display_data",
          "data": {
            "text/plain": [
              "[1] 21"
            ],
            "text/latex": "21",
            "text/markdown": "21",
            "text/html": [
              "21"
            ]
          },
          "metadata": {
            "tags": []
          }
        }
      ]
    },
    {
      "cell_type": "markdown",
      "metadata": {
        "id": "ZtevcVV8CnUy"
      },
      "source": [
        "# Q.16 How many missing values are in the Ozone column of this data frame?"
      ]
    },
    {
      "cell_type": "code",
      "metadata": {
        "colab": {
          "base_uri": "https://localhost:8080/",
          "height": 34
        },
        "id": "E-Heqng6amen",
        "outputId": "0dadc936-2618-4efc-8e18-23d0da3185f6"
      },
      "source": [
        "sum(is.na(df[,1]))"
      ],
      "execution_count": 8,
      "outputs": [
        {
          "output_type": "display_data",
          "data": {
            "text/plain": [
              "[1] 37"
            ],
            "text/latex": "37",
            "text/markdown": "37",
            "text/html": [
              "37"
            ]
          },
          "metadata": {
            "tags": []
          }
        }
      ]
    },
    {
      "cell_type": "markdown",
      "metadata": {
        "id": "NXSHAXHHCrE3"
      },
      "source": [
        "# Q.17 What is the mean of the Ozone column in this dataset? Exclude missing values (coded as NA) from this calculation."
      ]
    },
    {
      "cell_type": "code",
      "metadata": {
        "colab": {
          "base_uri": "https://localhost:8080/",
          "height": 34
        },
        "id": "pCIon4cma6Ob",
        "outputId": "5fac8f41-f534-454c-80c1-901763c3235e"
      },
      "source": [
        "mean(df[,1],na.rm=TRUE)"
      ],
      "execution_count": 9,
      "outputs": [
        {
          "output_type": "display_data",
          "data": {
            "text/plain": [
              "[1] 42.12931"
            ],
            "text/latex": "42.1293103448276",
            "text/markdown": "42.1293103448276",
            "text/html": [
              "42.1293103448276"
            ]
          },
          "metadata": {
            "tags": []
          }
        }
      ]
    },
    {
      "cell_type": "markdown",
      "metadata": {
        "id": "0P6ZPptXCudL"
      },
      "source": [
        "# Q.18 Extract the subset of rows of the data frame where Ozone values are above 31 and Temp values are above 90. What is the mean of Solar.R in this subset?"
      ]
    },
    {
      "cell_type": "code",
      "metadata": {
        "colab": {
          "base_uri": "https://localhost:8080/",
          "height": 34
        },
        "id": "WP4f_D2ZcNRR",
        "outputId": "66f3a3cc-9545-488f-8208-a8c0fb9b21c7"
      },
      "source": [
        "sub = subset(df, Ozone > 31 & Temp > 90, select = Solar.R)\r\n",
        "apply(sub,2,mean)"
      ],
      "execution_count": 16,
      "outputs": [
        {
          "output_type": "display_data",
          "data": {
            "text/plain": [
              "Solar.R \n",
              "  212.8 "
            ],
            "text/latex": "\\textbf{Solar.R:} 212.8",
            "text/markdown": "**Solar.R:** 212.8",
            "text/html": [
              "<strong>Solar.R:</strong> 212.8"
            ]
          },
          "metadata": {
            "tags": []
          }
        }
      ]
    },
    {
      "cell_type": "markdown",
      "metadata": {
        "id": "LxXFvaAzCxCZ"
      },
      "source": [
        "# Q.19 What is the mean of \"Temp\" when \"Month\" is equal to 6? "
      ]
    },
    {
      "cell_type": "code",
      "metadata": {
        "id": "byr_Ix82dZLY",
        "colab": {
          "base_uri": "https://localhost:8080/",
          "height": 34
        },
        "outputId": "4b1b0d79-8137-406e-f32e-83ae0921185b"
      },
      "source": [
        "sub = subset(df,Month == 6, select = Temp)\r\n",
        "apply(sub,2,mean)"
      ],
      "execution_count": 19,
      "outputs": [
        {
          "output_type": "display_data",
          "data": {
            "text/plain": [
              "Temp \n",
              "79.1 "
            ],
            "text/latex": "\\textbf{Temp:} 79.1",
            "text/markdown": "**Temp:** 79.1",
            "text/html": [
              "<strong>Temp:</strong> 79.1"
            ]
          },
          "metadata": {
            "tags": []
          }
        }
      ]
    },
    {
      "cell_type": "markdown",
      "metadata": {
        "id": "5AGCz2WmC0IK"
      },
      "source": [
        "# Q.20 What was the maximum ozone value in the month of May (i.e. Month is equal to 5)?"
      ]
    },
    {
      "cell_type": "code",
      "metadata": {
        "colab": {
          "base_uri": "https://localhost:8080/",
          "height": 34
        },
        "id": "UEblMGn5C26N",
        "outputId": "66c57bc2-ba47-4708-fcbd-9e2b7d166e6c"
      },
      "source": [
        "sub = subset(df,Month==5 & !is.na(Ozone),select = Ozone)\r\n",
        "apply(sub,2,max)"
      ],
      "execution_count": 28,
      "outputs": [
        {
          "output_type": "display_data",
          "data": {
            "text/plain": [
              "Ozone \n",
              "  115 "
            ],
            "text/latex": "\\textbf{Ozone:} 115",
            "text/markdown": "**Ozone:** 115",
            "text/html": [
              "<strong>Ozone:</strong> 115"
            ]
          },
          "metadata": {
            "tags": []
          }
        }
      ]
    }
  ]
}